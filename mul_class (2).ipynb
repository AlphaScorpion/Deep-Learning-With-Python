{
  "cells": [
    {
      "cell_type": "markdown",
      "source": [
        "\n",
        "*   Name: Aishwarya Bhavsar\n",
        "*   CSULB ID: 029371509\n",
        "*   Multiclass Classification - Newswires Dataset.\n",
        "\n"
      ],
      "metadata": {
        "id": "5yDnrc7QxI-M"
      },
      "id": "5yDnrc7QxI-M"
    },
    {
      "cell_type": "code",
      "execution_count": 1,
      "id": "ba30ec9c",
      "metadata": {
        "colab": {
          "base_uri": "https://localhost:8080/"
        },
        "id": "ba30ec9c",
        "outputId": "c2120b10-f922-4c28-d6c7-05b5b2b20a38"
      },
      "outputs": [
        {
          "output_type": "stream",
          "name": "stdout",
          "text": [
            "Downloading data from https://storage.googleapis.com/tensorflow/tf-keras-datasets/reuters.npz\n",
            "2113536/2110848 [==============================] - 0s 0us/step\n",
            "2121728/2110848 [==============================] - 0s 0us/step\n"
          ]
        }
      ],
      "source": [
        "from keras.datasets import reuters\n",
        "\n",
        "(train_data, train_labels), (test_data, test_labels) = reuters.load_data(num_words=10000)"
      ]
    },
    {
      "cell_type": "code",
      "execution_count": 2,
      "id": "8f2d7885",
      "metadata": {
        "colab": {
          "base_uri": "https://localhost:8080/"
        },
        "id": "8f2d7885",
        "outputId": "90f5996a-8f39-40e4-9914-0224c13756c7"
      },
      "outputs": [
        {
          "output_type": "execute_result",
          "data": {
            "text/plain": [
              "8982"
            ]
          },
          "metadata": {},
          "execution_count": 2
        }
      ],
      "source": [
        "len(train_data)"
      ]
    },
    {
      "cell_type": "code",
      "source": [
        "len(test_data)"
      ],
      "metadata": {
        "colab": {
          "base_uri": "https://localhost:8080/"
        },
        "id": "gWhyOU7Siv3s",
        "outputId": "928b7b36-0b3e-4dca-a140-e7c6f9549380"
      },
      "id": "gWhyOU7Siv3s",
      "execution_count": 3,
      "outputs": [
        {
          "output_type": "execute_result",
          "data": {
            "text/plain": [
              "2246"
            ]
          },
          "metadata": {},
          "execution_count": 3
        }
      ]
    },
    {
      "cell_type": "code",
      "source": [
        "train_data[10]"
      ],
      "metadata": {
        "colab": {
          "base_uri": "https://localhost:8080/"
        },
        "id": "dgLvIEgviv7Z",
        "outputId": "7c971f45-6625-4c2f-f45a-45f0cfef1e2d"
      },
      "id": "dgLvIEgviv7Z",
      "execution_count": 4,
      "outputs": [
        {
          "output_type": "execute_result",
          "data": {
            "text/plain": [
              "[1,\n",
              " 245,\n",
              " 273,\n",
              " 207,\n",
              " 156,\n",
              " 53,\n",
              " 74,\n",
              " 160,\n",
              " 26,\n",
              " 14,\n",
              " 46,\n",
              " 296,\n",
              " 26,\n",
              " 39,\n",
              " 74,\n",
              " 2979,\n",
              " 3554,\n",
              " 14,\n",
              " 46,\n",
              " 4689,\n",
              " 4329,\n",
              " 86,\n",
              " 61,\n",
              " 3499,\n",
              " 4795,\n",
              " 14,\n",
              " 61,\n",
              " 451,\n",
              " 4329,\n",
              " 17,\n",
              " 12]"
            ]
          },
          "metadata": {},
          "execution_count": 4
        }
      ]
    },
    {
      "cell_type": "code",
      "source": [
        "#Decoding newswires back to text\n",
        "word_index = reuters.get_word_index()\n",
        "reverse_word_index = dict([(value, key) for (key, value) in word_index.items()])\n",
        "decoded_newswire = ' '.join([reverse_word_index.get(i - 3, '?') for i in train_data[0]])"
      ],
      "metadata": {
        "colab": {
          "base_uri": "https://localhost:8080/"
        },
        "id": "ts9Qv8hMiv_I",
        "outputId": "d0667512-6e74-4638-e688-abd08e0800dd"
      },
      "id": "ts9Qv8hMiv_I",
      "execution_count": 5,
      "outputs": [
        {
          "output_type": "stream",
          "name": "stdout",
          "text": [
            "Downloading data from https://storage.googleapis.com/tensorflow/tf-keras-datasets/reuters_word_index.json\n",
            "557056/550378 [==============================] - 0s 0us/step\n",
            "565248/550378 [==============================] - 0s 0us/step\n"
          ]
        }
      ]
    },
    {
      "cell_type": "code",
      "source": [
        "train_labels[45]"
      ],
      "metadata": {
        "colab": {
          "base_uri": "https://localhost:8080/"
        },
        "id": "S7cKdiUGiwCT",
        "outputId": "f94253ca-b802-4be8-e292-19d805a74760"
      },
      "id": "S7cKdiUGiwCT",
      "execution_count": 6,
      "outputs": [
        {
          "output_type": "execute_result",
          "data": {
            "text/plain": [
              "20"
            ]
          },
          "metadata": {},
          "execution_count": 6
        }
      ]
    },
    {
      "cell_type": "code",
      "source": [
        "#Preparing the data\n",
        "#Encoding the data\n",
        "import numpy as np\n",
        "\n",
        "def vectorize_sequences(sequences, dimension=10000):\n",
        "    results = np.zeros((len(sequences), dimension))\n",
        "    for i, sequence in enumerate(sequences):\n",
        "        results[i, sequence] = 1.\n",
        "    return results\n"
      ],
      "metadata": {
        "id": "8_qFZxMSiwFg"
      },
      "id": "8_qFZxMSiwFg",
      "execution_count": 7,
      "outputs": []
    },
    {
      "cell_type": "code",
      "source": [
        "x_train = vectorize_sequences(train_data)            \n",
        "x_test = vectorize_sequences(test_data)"
      ],
      "metadata": {
        "id": "41fEAdJKiwKn"
      },
      "id": "41fEAdJKiwKn",
      "execution_count": 8,
      "outputs": []
    },
    {
      "cell_type": "code",
      "source": [
        "print(x_train)"
      ],
      "metadata": {
        "colab": {
          "base_uri": "https://localhost:8080/"
        },
        "id": "W44ArqgdiwN2",
        "outputId": "98ffab9e-d6ec-48db-941c-0a4b899b5928"
      },
      "id": "W44ArqgdiwN2",
      "execution_count": 9,
      "outputs": [
        {
          "output_type": "stream",
          "name": "stdout",
          "text": [
            "[[0. 1. 1. ... 0. 0. 0.]\n",
            " [0. 1. 1. ... 0. 0. 0.]\n",
            " [0. 1. 1. ... 0. 0. 0.]\n",
            " ...\n",
            " [0. 1. 1. ... 0. 0. 0.]\n",
            " [0. 1. 1. ... 0. 0. 0.]\n",
            " [0. 1. 1. ... 0. 0. 0.]]\n"
          ]
        }
      ]
    },
    {
      "cell_type": "code",
      "execution_count": 10,
      "id": "22a55888",
      "metadata": {
        "colab": {
          "base_uri": "https://localhost:8080/"
        },
        "id": "22a55888",
        "outputId": "6571fae5-3475-4887-f0ae-d5185adf00da"
      },
      "outputs": [
        {
          "output_type": "stream",
          "name": "stdout",
          "text": [
            "[[0. 1. 1. ... 0. 0. 0.]\n",
            " [0. 1. 1. ... 0. 0. 0.]\n",
            " [0. 1. 1. ... 0. 0. 0.]\n",
            " ...\n",
            " [0. 1. 0. ... 0. 0. 0.]\n",
            " [0. 1. 1. ... 0. 0. 0.]\n",
            " [0. 1. 1. ... 0. 0. 0.]]\n"
          ]
        }
      ],
      "source": [
        "print(x_test)"
      ]
    },
    {
      "cell_type": "code",
      "source": [
        "def to_one_hot(labels, dimension=46):\n",
        "    results = np.zeros((len(labels), dimension))\n",
        "    for i, label in enumerate(labels):\n",
        "        results[i, label] = 1.\n",
        "    return results"
      ],
      "metadata": {
        "id": "Bgikx52oORsa"
      },
      "id": "Bgikx52oORsa",
      "execution_count": 11,
      "outputs": []
    },
    {
      "cell_type": "code",
      "source": [
        "one_hot_train_labels = to_one_hot(train_labels)        \n",
        "one_hot_test_labels = to_one_hot(test_labels)"
      ],
      "metadata": {
        "id": "XhIvT23bOR4U"
      },
      "id": "XhIvT23bOR4U",
      "execution_count": 12,
      "outputs": []
    },
    {
      "cell_type": "code",
      "source": [
        "print(train_labels)"
      ],
      "metadata": {
        "colab": {
          "base_uri": "https://localhost:8080/"
        },
        "id": "c4OBQEGJOSEb",
        "outputId": "35eb51b1-a32b-431c-fb22-45475806d6aa"
      },
      "id": "c4OBQEGJOSEb",
      "execution_count": 13,
      "outputs": [
        {
          "output_type": "stream",
          "name": "stdout",
          "text": [
            "[ 3  4  3 ... 25  3 25]\n"
          ]
        }
      ]
    },
    {
      "cell_type": "code",
      "source": [
        "print(one_hot_train_labels)"
      ],
      "metadata": {
        "colab": {
          "base_uri": "https://localhost:8080/"
        },
        "id": "-tqn86TbOSPZ",
        "outputId": "dfec35fd-3309-4a6f-da8f-a364738e83cd"
      },
      "id": "-tqn86TbOSPZ",
      "execution_count": 14,
      "outputs": [
        {
          "output_type": "stream",
          "name": "stdout",
          "text": [
            "[[0. 0. 0. ... 0. 0. 0.]\n",
            " [0. 0. 0. ... 0. 0. 0.]\n",
            " [0. 0. 0. ... 0. 0. 0.]\n",
            " ...\n",
            " [0. 0. 0. ... 0. 0. 0.]\n",
            " [0. 0. 0. ... 0. 0. 0.]\n",
            " [0. 0. 0. ... 0. 0. 0.]]\n"
          ]
        }
      ]
    },
    {
      "cell_type": "code",
      "source": [
        "from keras.utils.np_utils import to_categorical\n",
        "\n",
        "one_hot_train_labels = to_categorical(train_labels)\n",
        "one_hot_test_labels = to_categorical(test_labels)"
      ],
      "metadata": {
        "id": "hO6J3cM0PRCY"
      },
      "id": "hO6J3cM0PRCY",
      "execution_count": 15,
      "outputs": []
    },
    {
      "cell_type": "code",
      "source": [
        "print(one_hot_train_labels)\n"
      ],
      "metadata": {
        "colab": {
          "base_uri": "https://localhost:8080/"
        },
        "id": "QsSdAaQ1PROJ",
        "outputId": "de0c3d41-7d46-4721-b352-d506bba0029c"
      },
      "id": "QsSdAaQ1PROJ",
      "execution_count": 16,
      "outputs": [
        {
          "output_type": "stream",
          "name": "stdout",
          "text": [
            "[[0. 0. 0. ... 0. 0. 0.]\n",
            " [0. 0. 0. ... 0. 0. 0.]\n",
            " [0. 0. 0. ... 0. 0. 0.]\n",
            " ...\n",
            " [0. 0. 0. ... 0. 0. 0.]\n",
            " [0. 0. 0. ... 0. 0. 0.]\n",
            " [0. 0. 0. ... 0. 0. 0.]]\n"
          ]
        }
      ]
    },
    {
      "cell_type": "code",
      "source": [
        "#Building your network\n",
        "from keras import models\n",
        "from keras import layers\n",
        "\n",
        "model = models.Sequential()\n",
        "model.add(layers.Dense(64, activation='relu', input_shape=(10000,)))\n",
        "model.add(layers.Dense(64, activation='relu'))\n",
        "model.add(layers.Dense(46, activation='softmax'))"
      ],
      "metadata": {
        "id": "cZZJjZrcPRbn"
      },
      "id": "cZZJjZrcPRbn",
      "execution_count": 17,
      "outputs": []
    },
    {
      "cell_type": "code",
      "source": [
        "#Compiling the model\n",
        "model.compile(optimizer='rmsprop', loss='categorical_crossentropy', metrics=['accuracy'])"
      ],
      "metadata": {
        "id": "lNc3rUeqPRmA"
      },
      "id": "lNc3rUeqPRmA",
      "execution_count": 18,
      "outputs": []
    },
    {
      "cell_type": "code",
      "source": [
        "#Setting aside a validation set\n",
        "x_val = x_train[:1000]\n",
        "partial_x_train = x_train[1000:]\n",
        "y_val = one_hot_train_labels[:1000]\n",
        "partial_y_train = one_hot_train_labels[1000:]"
      ],
      "metadata": {
        "id": "w1GaDi1wPRx7"
      },
      "id": "w1GaDi1wPRx7",
      "execution_count": 19,
      "outputs": []
    },
    {
      "cell_type": "code",
      "source": [
        "history = model.fit(partial_x_train,partial_y_train,epochs=20,batch_size=512,validation_data=(x_val, y_val))"
      ],
      "metadata": {
        "colab": {
          "base_uri": "https://localhost:8080/"
        },
        "id": "uNHvcZWsYqme",
        "outputId": "6c5253ed-2486-4fd9-82fd-a75dc6cd8557"
      },
      "id": "uNHvcZWsYqme",
      "execution_count": 20,
      "outputs": [
        {
          "output_type": "stream",
          "name": "stdout",
          "text": [
            "Epoch 1/20\n",
            "16/16 [==============================] - 2s 63ms/step - loss: 2.5964 - accuracy: 0.5537 - val_loss: 1.6741 - val_accuracy: 0.6590\n",
            "Epoch 2/20\n",
            "16/16 [==============================] - 1s 42ms/step - loss: 1.3566 - accuracy: 0.7209 - val_loss: 1.2677 - val_accuracy: 0.7260\n",
            "Epoch 3/20\n",
            "16/16 [==============================] - 1s 42ms/step - loss: 1.0080 - accuracy: 0.7838 - val_loss: 1.0932 - val_accuracy: 0.7660\n",
            "Epoch 4/20\n",
            "16/16 [==============================] - 1s 41ms/step - loss: 0.7979 - accuracy: 0.8261 - val_loss: 1.0019 - val_accuracy: 0.7840\n",
            "Epoch 5/20\n",
            "16/16 [==============================] - 1s 41ms/step - loss: 0.6421 - accuracy: 0.8613 - val_loss: 0.9421 - val_accuracy: 0.8070\n",
            "Epoch 6/20\n",
            "16/16 [==============================] - 1s 41ms/step - loss: 0.5154 - accuracy: 0.8901 - val_loss: 0.9035 - val_accuracy: 0.8080\n",
            "Epoch 7/20\n",
            "16/16 [==============================] - 1s 42ms/step - loss: 0.4158 - accuracy: 0.9116 - val_loss: 0.8873 - val_accuracy: 0.8070\n",
            "Epoch 8/20\n",
            "16/16 [==============================] - 1s 40ms/step - loss: 0.3404 - accuracy: 0.9273 - val_loss: 0.8550 - val_accuracy: 0.8290\n",
            "Epoch 9/20\n",
            "16/16 [==============================] - 1s 41ms/step - loss: 0.2824 - accuracy: 0.9346 - val_loss: 0.8702 - val_accuracy: 0.8240\n",
            "Epoch 10/20\n",
            "16/16 [==============================] - 1s 40ms/step - loss: 0.2355 - accuracy: 0.9446 - val_loss: 0.8731 - val_accuracy: 0.8230\n",
            "Epoch 11/20\n",
            "16/16 [==============================] - 1s 41ms/step - loss: 0.2057 - accuracy: 0.9485 - val_loss: 0.9004 - val_accuracy: 0.8200\n",
            "Epoch 12/20\n",
            "16/16 [==============================] - 1s 42ms/step - loss: 0.1788 - accuracy: 0.9518 - val_loss: 0.8926 - val_accuracy: 0.8230\n",
            "Epoch 13/20\n",
            "16/16 [==============================] - 1s 41ms/step - loss: 0.1641 - accuracy: 0.9509 - val_loss: 0.9328 - val_accuracy: 0.8160\n",
            "Epoch 14/20\n",
            "16/16 [==============================] - 1s 42ms/step - loss: 0.1477 - accuracy: 0.9548 - val_loss: 0.9118 - val_accuracy: 0.8270\n",
            "Epoch 15/20\n",
            "16/16 [==============================] - 1s 42ms/step - loss: 0.1415 - accuracy: 0.9549 - val_loss: 0.9436 - val_accuracy: 0.8100\n",
            "Epoch 16/20\n",
            "16/16 [==============================] - 1s 41ms/step - loss: 0.1312 - accuracy: 0.9570 - val_loss: 0.9845 - val_accuracy: 0.8140\n",
            "Epoch 17/20\n",
            "16/16 [==============================] - 1s 42ms/step - loss: 0.1252 - accuracy: 0.9544 - val_loss: 0.9876 - val_accuracy: 0.8020\n",
            "Epoch 18/20\n",
            "16/16 [==============================] - 1s 42ms/step - loss: 0.1153 - accuracy: 0.9594 - val_loss: 1.0760 - val_accuracy: 0.8010\n",
            "Epoch 19/20\n",
            "16/16 [==============================] - 1s 41ms/step - loss: 0.1187 - accuracy: 0.9563 - val_loss: 1.0442 - val_accuracy: 0.8080\n",
            "Epoch 20/20\n",
            "16/16 [==============================] - 1s 42ms/step - loss: 0.1092 - accuracy: 0.9594 - val_loss: 1.0605 - val_accuracy: 0.8030\n"
          ]
        }
      ]
    },
    {
      "cell_type": "code",
      "source": [
        "import matplotlib.pyplot as plt\n",
        "\n",
        "loss = history.history['loss']\n",
        "val_loss = history.history['val_loss']\n",
        "\n",
        "epochs = range(1, len(loss) + 1)\n",
        "\n",
        "plt.plot(epochs, loss, 'bo', label='Training loss')\n",
        "plt.plot(epochs, val_loss, 'b', label='Validation loss')\n",
        "plt.title('Training and validation loss')\n",
        "plt.xlabel('Epochs')\n",
        "plt.ylabel('Loss')\n",
        "plt.legend()\n",
        "plt.show()"
      ],
      "metadata": {
        "colab": {
          "base_uri": "https://localhost:8080/",
          "height": 295
        },
        "id": "CkP1JdMCYq9o",
        "outputId": "600edefe-1173-4ecc-c22c-77aaed340bca"
      },
      "id": "CkP1JdMCYq9o",
      "execution_count": 22,
      "outputs": [
        {
          "output_type": "display_data",
          "data": {
            "image/png": "[encoded data removed]",
            "text/plain": [
              "<Figure size 432x288 with 1 Axes>"
            ]
          },
          "metadata": {
            "needs_background": "light"
          }
        }
      ]
    },
    {
      "cell_type": "code",
      "source": [
        "#Plotting the training and validation accuracy\n",
        "plt.clf()                                                \n",
        "\n",
        "acc = history.history['accuracy']\n",
        "val_acc = history.history['val_accuracy']\n",
        "\n",
        "plt.plot(epochs, acc, 'bo', label='Training acc')\n",
        "plt.plot(epochs, val_acc, 'b', label='Validation acc')\n",
        "plt.title('Training and validation accuracy')\n",
        "plt.xlabel('Epochs')\n",
        "plt.ylabel('Accuracy')\n",
        "plt.legend()\n",
        "\n",
        "plt.show()"
      ],
      "metadata": {
        "colab": {
          "base_uri": "https://localhost:8080/",
          "height": 295
        },
        "id": "GwDST6fdYrLt",
        "outputId": "f28f87a3-b9af-4e7a-98b8-033dc0483a1c"
      },
      "id": "GwDST6fdYrLt",
      "execution_count": 27,
      "outputs": [
        {
          "output_type": "display_data",
          "data": {
            "image/png": "[encoded data removed]",
            "text/plain": [
              "<Figure size 432x288 with 1 Axes>"
            ]
          },
          "metadata": {
            "needs_background": "light"
          }
        }
      ]
    },
    {
      "cell_type": "code",
      "source": [
        "#Retraining the model from scratch\n",
        "model = models.Sequential()\n",
        "model.add(layers.Dense(64, activation='relu', input_shape=(10000,)))\n",
        "model.add(layers.Dense(64, activation='relu'))\n",
        "model.add(layers.Dense(46, activation='softmax'))\n",
        "model.compile(optimizer='rmsprop',loss='categorical_crossentropy',metrics=['accuracy'])\n",
        "model.fit(partial_x_train,partial_y_train,epochs=9,batch_size=512,validation_data=(x_val, y_val))\n",
        "results = model.evaluate(x_test, one_hot_test_labels)\n"
      ],
      "metadata": {
        "colab": {
          "base_uri": "https://localhost:8080/"
        },
        "id": "9rwri1eMcIUo",
        "outputId": "cf7af4ef-8c08-49b1-f06e-b162d5e4eb93"
      },
      "id": "9rwri1eMcIUo",
      "execution_count": 43,
      "outputs": [
        {
          "output_type": "stream",
          "name": "stdout",
          "text": [
            "Epoch 1/9\n",
            "16/16 [==============================] - 1s 56ms/step - loss: 2.6165 - accuracy: 0.5269 - val_loss: 1.6897 - val_accuracy: 0.6400\n",
            "Epoch 2/9\n",
            "16/16 [==============================] - 1s 42ms/step - loss: 1.3984 - accuracy: 0.7066 - val_loss: 1.2763 - val_accuracy: 0.7110\n",
            "Epoch 3/9\n",
            "16/16 [==============================] - 1s 44ms/step - loss: 1.0289 - accuracy: 0.7786 - val_loss: 1.1056 - val_accuracy: 0.7560\n",
            "Epoch 4/9\n",
            "16/16 [==============================] - 1s 40ms/step - loss: 0.8111 - accuracy: 0.8257 - val_loss: 1.0151 - val_accuracy: 0.7860\n",
            "Epoch 5/9\n",
            "16/16 [==============================] - 1s 42ms/step - loss: 0.6504 - accuracy: 0.8623 - val_loss: 0.9415 - val_accuracy: 0.8040\n",
            "Epoch 6/9\n",
            "16/16 [==============================] - 1s 41ms/step - loss: 0.5175 - accuracy: 0.8938 - val_loss: 0.9348 - val_accuracy: 0.7930\n",
            "Epoch 7/9\n",
            "16/16 [==============================] - 1s 40ms/step - loss: 0.4229 - accuracy: 0.9117 - val_loss: 0.8840 - val_accuracy: 0.8220\n",
            "Epoch 8/9\n",
            "16/16 [==============================] - 1s 42ms/step - loss: 0.3430 - accuracy: 0.9260 - val_loss: 0.8742 - val_accuracy: 0.8190\n",
            "Epoch 9/9\n",
            "16/16 [==============================] - 1s 40ms/step - loss: 0.2867 - accuracy: 0.9365 - val_loss: 0.8765 - val_accuracy: 0.8160\n",
            "71/71 [==============================] - 0s 2ms/step - loss: 0.9842 - accuracy: 0.7890\n"
          ]
        }
      ]
    },
    {
      "cell_type": "code",
      "source": [
        "results"
      ],
      "metadata": {
        "colab": {
          "base_uri": "https://localhost:8080/"
        },
        "id": "ugdnP59-cIkf",
        "outputId": "7194b0a1-5853-4294-ba7b-2001ac32eed6"
      },
      "id": "ugdnP59-cIkf",
      "execution_count": 30,
      "outputs": [
        {
          "output_type": "execute_result",
          "data": {
            "text/plain": [
              "[1.0025769472122192, 0.7916295528411865]"
            ]
          },
          "metadata": {},
          "execution_count": 30
        }
      ]
    },
    {
      "cell_type": "code",
      "source": [
        "import copy\n",
        "test_labels_copy = copy.copy(test_labels)"
      ],
      "metadata": {
        "id": "uRHOP_A7cI2E"
      },
      "id": "uRHOP_A7cI2E",
      "execution_count": 32,
      "outputs": []
    },
    {
      "cell_type": "code",
      "source": [
        "np.random.shuffle(test_labels_copy)\n",
        "hits_array = np.array(test_labels) == np.array(test_labels_copy)\n",
        "float(np.sum(hits_array)) / len(test_labels)"
      ],
      "metadata": {
        "colab": {
          "base_uri": "https://localhost:8080/"
        },
        "id": "Dzfiv55Aheg1",
        "outputId": "90f42634-11b0-467a-eff1-796c2d099e04"
      },
      "id": "Dzfiv55Aheg1",
      "execution_count": 33,
      "outputs": [
        {
          "output_type": "execute_result",
          "data": {
            "text/plain": [
              "0.19278717720391808"
            ]
          },
          "metadata": {},
          "execution_count": 33
        }
      ]
    },
    {
      "cell_type": "code",
      "source": [
        "#Generating predictions on new data\n",
        "predictions = model.predict(x_test)"
      ],
      "metadata": {
        "id": "bw4NZZlMheuL"
      },
      "id": "bw4NZZlMheuL",
      "execution_count": 34,
      "outputs": []
    },
    {
      "cell_type": "code",
      "source": [
        "predictions[0].shape        #Each entry in predictions is a vector of length 46"
      ],
      "metadata": {
        "colab": {
          "base_uri": "https://localhost:8080/"
        },
        "id": "vfe_2nOEhe59",
        "outputId": "8700e9c2-63db-4c07-d311-0ff624248a6e"
      },
      "id": "vfe_2nOEhe59",
      "execution_count": 35,
      "outputs": [
        {
          "output_type": "execute_result",
          "data": {
            "text/plain": [
              "(46,)"
            ]
          },
          "metadata": {},
          "execution_count": 35
        }
      ]
    },
    {
      "cell_type": "code",
      "source": [
        "np.sum(predictions[0])      #The coefficients in this vector sum to 1"
      ],
      "metadata": {
        "colab": {
          "base_uri": "https://localhost:8080/"
        },
        "id": "op-dBku3jm8E",
        "outputId": "16e4ca3c-606f-444d-ad7c-968400e499f9"
      },
      "id": "op-dBku3jm8E",
      "execution_count": 36,
      "outputs": [
        {
          "output_type": "execute_result",
          "data": {
            "text/plain": [
              "1.0"
            ]
          },
          "metadata": {},
          "execution_count": 36
        }
      ]
    },
    {
      "cell_type": "code",
      "source": [
        "np.argmax(predictions[0])    #The largest entry is the predicted class—the class with the highest probability"
      ],
      "metadata": {
        "colab": {
          "base_uri": "https://localhost:8080/"
        },
        "id": "3ZPy4i4yjm_i",
        "outputId": "7d5b4b03-6a4b-490d-9c90-2e807d15303f"
      },
      "id": "3ZPy4i4yjm_i",
      "execution_count": 37,
      "outputs": [
        {
          "output_type": "execute_result",
          "data": {
            "text/plain": [
              "3"
            ]
          },
          "metadata": {},
          "execution_count": 37
        }
      ]
    },
    {
      "cell_type": "code",
      "source": [
        "#Casting labels as integer tensors\n",
        "y_train = np.array(train_labels)\n",
        "y_test = np.array(test_labels)"
      ],
      "metadata": {
        "id": "paUcmL8YjnDC"
      },
      "id": "paUcmL8YjnDC",
      "execution_count": 38,
      "outputs": []
    },
    {
      "cell_type": "code",
      "source": [
        "model.compile(optimizer='rmsprop',loss='sparse_categorical_crossentropy',metrics=['acc'])"
      ],
      "metadata": {
        "id": "nvEYwpQShfE8"
      },
      "id": "nvEYwpQShfE8",
      "execution_count": 39,
      "outputs": []
    },
    {
      "cell_type": "code",
      "source": [
        "#A model with an information bottleneck\n",
        "model = models.Sequential()\n",
        "model.add(layers.Dense(64, activation='relu', input_shape=(10000,)))\n",
        "model.add(layers.Dense(4, activation='relu'))\n",
        "model.add(layers.Dense(46, activation='softmax'))\n",
        "\n",
        "model.compile(optimizer='rmsprop',loss='categorical_crossentropy',metrics=['accuracy'])\n",
        "model.fit(partial_x_train,partial_y_train,epochs=20,batch_size=128,validation_data=(x_val, y_val))"
      ],
      "metadata": {
        "colab": {
          "base_uri": "https://localhost:8080/"
        },
        "id": "uNrodyZ0lyO4",
        "outputId": "c95762b6-26cd-4030-c503-853ab11042da"
      },
      "id": "uNrodyZ0lyO4",
      "execution_count": 40,
      "outputs": [
        {
          "output_type": "stream",
          "name": "stdout",
          "text": [
            "Epoch 1/20\n",
            "63/63 [==============================] - 2s 20ms/step - loss: 2.9847 - accuracy: 0.2177 - val_loss: 2.2532 - val_accuracy: 0.5780\n",
            "Epoch 2/20\n",
            "63/63 [==============================] - 1s 14ms/step - loss: 1.7968 - accuracy: 0.5760 - val_loss: 1.6113 - val_accuracy: 0.5700\n",
            "Epoch 3/20\n",
            "63/63 [==============================] - 1s 14ms/step - loss: 1.4365 - accuracy: 0.6114 - val_loss: 1.5136 - val_accuracy: 0.6220\n",
            "Epoch 4/20\n",
            "63/63 [==============================] - 1s 14ms/step - loss: 1.2834 - accuracy: 0.6885 - val_loss: 1.4378 - val_accuracy: 0.6590\n",
            "Epoch 5/20\n",
            "63/63 [==============================] - 1s 14ms/step - loss: 1.1758 - accuracy: 0.7087 - val_loss: 1.3884 - val_accuracy: 0.6750\n",
            "Epoch 6/20\n",
            "63/63 [==============================] - 1s 14ms/step - loss: 1.0885 - accuracy: 0.7239 - val_loss: 1.3923 - val_accuracy: 0.6870\n",
            "Epoch 7/20\n",
            "63/63 [==============================] - 1s 14ms/step - loss: 1.0183 - accuracy: 0.7352 - val_loss: 1.3911 - val_accuracy: 0.6770\n",
            "Epoch 8/20\n",
            "63/63 [==============================] - 1s 14ms/step - loss: 0.9593 - accuracy: 0.7458 - val_loss: 1.4220 - val_accuracy: 0.6790\n",
            "Epoch 9/20\n",
            "63/63 [==============================] - 1s 14ms/step - loss: 0.9087 - accuracy: 0.7533 - val_loss: 1.4262 - val_accuracy: 0.6740\n",
            "Epoch 10/20\n",
            "63/63 [==============================] - 1s 14ms/step - loss: 0.8662 - accuracy: 0.7551 - val_loss: 1.4379 - val_accuracy: 0.6780\n",
            "Epoch 11/20\n",
            "63/63 [==============================] - 1s 15ms/step - loss: 0.8297 - accuracy: 0.7602 - val_loss: 1.4813 - val_accuracy: 0.6730\n",
            "Epoch 12/20\n",
            "63/63 [==============================] - 1s 14ms/step - loss: 0.7969 - accuracy: 0.7647 - val_loss: 1.5102 - val_accuracy: 0.6710\n",
            "Epoch 13/20\n",
            "63/63 [==============================] - 1s 14ms/step - loss: 0.7686 - accuracy: 0.7711 - val_loss: 1.5374 - val_accuracy: 0.6760\n",
            "Epoch 14/20\n",
            "63/63 [==============================] - 1s 15ms/step - loss: 0.7373 - accuracy: 0.7829 - val_loss: 1.5731 - val_accuracy: 0.6810\n",
            "Epoch 15/20\n",
            "63/63 [==============================] - 1s 15ms/step - loss: 0.6909 - accuracy: 0.8078 - val_loss: 1.5809 - val_accuracy: 0.6740\n",
            "Epoch 16/20\n",
            "63/63 [==============================] - 1s 15ms/step - loss: 0.6501 - accuracy: 0.8190 - val_loss: 1.5925 - val_accuracy: 0.6780\n",
            "Epoch 17/20\n",
            "63/63 [==============================] - 1s 14ms/step - loss: 0.6150 - accuracy: 0.8251 - val_loss: 1.6407 - val_accuracy: 0.6830\n",
            "Epoch 18/20\n",
            "63/63 [==============================] - 1s 14ms/step - loss: 0.5833 - accuracy: 0.8329 - val_loss: 1.6869 - val_accuracy: 0.6910\n",
            "Epoch 19/20\n",
            "63/63 [==============================] - 1s 14ms/step - loss: 0.5544 - accuracy: 0.8443 - val_loss: 1.7114 - val_accuracy: 0.6990\n",
            "Epoch 20/20\n",
            "63/63 [==============================] - 1s 14ms/step - loss: 0.5259 - accuracy: 0.8518 - val_loss: 1.7611 - val_accuracy: 0.6890\n"
          ]
        },
        {
          "output_type": "execute_result",
          "data": {
            "text/plain": [
              "<keras.callbacks.History at 0x7fb220d79ad0>"
            ]
          },
          "metadata": {},
          "execution_count": 40
        }
      ]
    },
    {
      "cell_type": "code",
      "source": [
        ""
      ],
      "metadata": {
        "id": "lgB0fU2Tlymc"
      },
      "id": "lgB0fU2Tlymc",
      "execution_count": null,
      "outputs": []
    }
  ],
  "metadata": {
    "kernelspec": {
      "display_name": "Python 3 (ipykernel)",
      "language": "python",
      "name": "python3"
    },
    "language_info": {
      "codemirror_mode": {
        "name": "ipython",
        "version": 3
      },
      "file_extension": ".py",
      "mimetype": "text/x-python",
      "name": "python",
      "nbconvert_exporter": "python",
      "pygments_lexer": "ipython3",
      "version": "3.9.7"
    },
    "colab": {
      "name": "mul_class.ipynb",
      "provenance": []
    }
  },
  "nbformat": 4,
  "nbformat_minor": 5
}
{
  "cells": [
    {
      "cell_type": "markdown",
      "source": [
        "\n",
        "*   Name: Aishwarya Bhavsar\n",
        "*   CSULB ID: 029371509\n",
        "*   The Boston Housing Pricing Dataset - Regression   "
      ],
      "metadata": {
        "id": "fqpBtQtN-09t"
      },
      "id": "fqpBtQtN-09t"
    },
    {
      "cell_type": "code",
      "execution_count": 2,
      "id": "8f2d7885",
      "metadata": {
        "id": "8f2d7885",
        "colab": {
          "base_uri": "https://localhost:8080/"
        },
        "outputId": "4054a3ff-16e0-4e41-dfda-198c1ed6a2ad"
      },
      "outputs": [
        {
          "output_type": "stream",
          "name": "stdout",
          "text": [
            "Downloading data from https://storage.googleapis.com/tensorflow/tf-keras-datasets/boston_housing.npz\n",
            "57344/57026 [==============================] - 0s 0us/step\n",
            "65536/57026 [==================================] - 0s 0us/step\n"
          ]
        }
      ],
      "source": [
        "#The Boston Housing Price Dataset\n",
        "from keras.datasets import boston_housing\n",
        "(train_data, train_targets), (test_data, test_targets) = boston_housing.load_data()"
      ]
    },
    {
      "cell_type": "code",
      "execution_count": 3,
      "id": "22a55888",
      "metadata": {
        "id": "22a55888",
        "colab": {
          "base_uri": "https://localhost:8080/"
        },
        "outputId": "d77faec8-e346-41a9-92f0-1335a32acb1d"
      },
      "outputs": [
        {
          "output_type": "execute_result",
          "data": {
            "text/plain": [
              "(404, 13)"
            ]
          },
          "metadata": {},
          "execution_count": 3
        }
      ],
      "source": [
        "train_data.shape"
      ]
    },
    {
      "cell_type": "code",
      "source": [
        "test_data.shape"
      ],
      "metadata": {
        "colab": {
          "base_uri": "https://localhost:8080/"
        },
        "id": "yIuhw_8LAPGt",
        "outputId": "5fb04571-892a-44f4-db09-3086da21473b"
      },
      "id": "yIuhw_8LAPGt",
      "execution_count": 4,
      "outputs": [
        {
          "output_type": "execute_result",
          "data": {
            "text/plain": [
              "(102, 13)"
            ]
          },
          "metadata": {},
          "execution_count": 4
        }
      ]
    },
    {
      "cell_type": "code",
      "source": [
        "train_targets"
      ],
      "metadata": {
        "colab": {
          "base_uri": "https://localhost:8080/"
        },
        "id": "3NFZlwELAPKI",
        "outputId": "495b8629-c310-4de9-8187-cf1149d8c7d0"
      },
      "id": "3NFZlwELAPKI",
      "execution_count": 5,
      "outputs": [
        {
          "output_type": "execute_result",
          "data": {
            "text/plain": [
              "array([15.2, 42.3, 50. , 21.1, 17.7, 18.5, 11.3, 15.6, 15.6, 14.4, 12.1,\n",
              "       17.9, 23.1, 19.9, 15.7,  8.8, 50. , 22.5, 24.1, 27.5, 10.9, 30.8,\n",
              "       32.9, 24. , 18.5, 13.3, 22.9, 34.7, 16.6, 17.5, 22.3, 16.1, 14.9,\n",
              "       23.1, 34.9, 25. , 13.9, 13.1, 20.4, 20. , 15.2, 24.7, 22.2, 16.7,\n",
              "       12.7, 15.6, 18.4, 21. , 30.1, 15.1, 18.7,  9.6, 31.5, 24.8, 19.1,\n",
              "       22. , 14.5, 11. , 32. , 29.4, 20.3, 24.4, 14.6, 19.5, 14.1, 14.3,\n",
              "       15.6, 10.5,  6.3, 19.3, 19.3, 13.4, 36.4, 17.8, 13.5, 16.5,  8.3,\n",
              "       14.3, 16. , 13.4, 28.6, 43.5, 20.2, 22. , 23. , 20.7, 12.5, 48.5,\n",
              "       14.6, 13.4, 23.7, 50. , 21.7, 39.8, 38.7, 22.2, 34.9, 22.5, 31.1,\n",
              "       28.7, 46. , 41.7, 21. , 26.6, 15. , 24.4, 13.3, 21.2, 11.7, 21.7,\n",
              "       19.4, 50. , 22.8, 19.7, 24.7, 36.2, 14.2, 18.9, 18.3, 20.6, 24.6,\n",
              "       18.2,  8.7, 44. , 10.4, 13.2, 21.2, 37. , 30.7, 22.9, 20. , 19.3,\n",
              "       31.7, 32. , 23.1, 18.8, 10.9, 50. , 19.6,  5. , 14.4, 19.8, 13.8,\n",
              "       19.6, 23.9, 24.5, 25. , 19.9, 17.2, 24.6, 13.5, 26.6, 21.4, 11.9,\n",
              "       22.6, 19.6,  8.5, 23.7, 23.1, 22.4, 20.5, 23.6, 18.4, 35.2, 23.1,\n",
              "       27.9, 20.6, 23.7, 28. , 13.6, 27.1, 23.6, 20.6, 18.2, 21.7, 17.1,\n",
              "        8.4, 25.3, 13.8, 22.2, 18.4, 20.7, 31.6, 30.5, 20.3,  8.8, 19.2,\n",
              "       19.4, 23.1, 23. , 14.8, 48.8, 22.6, 33.4, 21.1, 13.6, 32.2, 13.1,\n",
              "       23.4, 18.9, 23.9, 11.8, 23.3, 22.8, 19.6, 16.7, 13.4, 22.2, 20.4,\n",
              "       21.8, 26.4, 14.9, 24.1, 23.8, 12.3, 29.1, 21. , 19.5, 23.3, 23.8,\n",
              "       17.8, 11.5, 21.7, 19.9, 25. , 33.4, 28.5, 21.4, 24.3, 27.5, 33.1,\n",
              "       16.2, 23.3, 48.3, 22.9, 22.8, 13.1, 12.7, 22.6, 15. , 15.3, 10.5,\n",
              "       24. , 18.5, 21.7, 19.5, 33.2, 23.2,  5. , 19.1, 12.7, 22.3, 10.2,\n",
              "       13.9, 16.3, 17. , 20.1, 29.9, 17.2, 37.3, 45.4, 17.8, 23.2, 29. ,\n",
              "       22. , 18. , 17.4, 34.6, 20.1, 25. , 15.6, 24.8, 28.2, 21.2, 21.4,\n",
              "       23.8, 31. , 26.2, 17.4, 37.9, 17.5, 20. ,  8.3, 23.9,  8.4, 13.8,\n",
              "        7.2, 11.7, 17.1, 21.6, 50. , 16.1, 20.4, 20.6, 21.4, 20.6, 36.5,\n",
              "        8.5, 24.8, 10.8, 21.9, 17.3, 18.9, 36.2, 14.9, 18.2, 33.3, 21.8,\n",
              "       19.7, 31.6, 24.8, 19.4, 22.8,  7.5, 44.8, 16.8, 18.7, 50. , 50. ,\n",
              "       19.5, 20.1, 50. , 17.2, 20.8, 19.3, 41.3, 20.4, 20.5, 13.8, 16.5,\n",
              "       23.9, 20.6, 31.5, 23.3, 16.8, 14. , 33.8, 36.1, 12.8, 18.3, 18.7,\n",
              "       19.1, 29. , 30.1, 50. , 50. , 22. , 11.9, 37.6, 50. , 22.7, 20.8,\n",
              "       23.5, 27.9, 50. , 19.3, 23.9, 22.6, 15.2, 21.7, 19.2, 43.8, 20.3,\n",
              "       33.2, 19.9, 22.5, 32.7, 22. , 17.1, 19. , 15. , 16.1, 25.1, 23.7,\n",
              "       28.7, 37.2, 22.6, 16.4, 25. , 29.8, 22.1, 17.4, 18.1, 30.3, 17.5,\n",
              "       24.7, 12.6, 26.5, 28.7, 13.3, 10.4, 24.4, 23. , 20. , 17.8,  7. ,\n",
              "       11.8, 24.4, 13.8, 19.4, 25.2, 19.4, 19.4, 29.1])"
            ]
          },
          "metadata": {},
          "execution_count": 5
        }
      ]
    },
    {
      "cell_type": "code",
      "source": [
        "#Normalizing the data - Data Normalization should only be performed on training data and not on testing data.\n",
        "mean = train_data.mean(axis=0)\n",
        "train_data -= mean\n",
        "std = train_data.std(axis=0)\n",
        "train_data /= std\n",
        "\n",
        "test_data -= mean\n",
        "test_data /= std"
      ],
      "metadata": {
        "id": "aS5JRtMbAPZJ"
      },
      "id": "aS5JRtMbAPZJ",
      "execution_count": 6,
      "outputs": []
    },
    {
      "cell_type": "code",
      "source": [
        "#Building The Network\n",
        "from keras import models\n",
        "from keras import layers\n",
        "\n",
        "def build_model():\n",
        "    model = models.Sequential()                                  \n",
        "    model.add(layers.Dense(64, activation='relu',\n",
        "                           input_shape=(train_data.shape[1],)))\n",
        "    model.add(layers.Dense(64, activation='relu'))\n",
        "    model.add(layers.Dense(1))                                        #Scalar Regression - one single continuous output.\n",
        "    model.compile(optimizer='rmsprop', loss='mse', metrics=['mae'])   #The last layer is linear.\n",
        "    return model\n"
      ],
      "metadata": {
        "id": "GLTg9A8NBQMf"
      },
      "id": "GLTg9A8NBQMf",
      "execution_count": 8,
      "outputs": []
    },
    {
      "cell_type": "code",
      "source": [
        "#Validating Your Approach Using K-Fold Validation\n",
        "import numpy as np\n",
        "\n",
        "k = 4\n",
        "num_val_samples = len(train_data) // k\n",
        "num_epochs = 100\n",
        "all_scores = []\n",
        "for i in range(k):\n",
        "    print('processing fold #', i)\n",
        "    val_data = train_data[i * num_val_samples: (i + 1) * num_val_samples]    \n",
        "    val_targets = train_targets[i * num_val_samples: (i + 1) * num_val_samples]\n",
        "\n",
        "    partial_train_data = np.concatenate( \n",
        "        [train_data[:i * num_val_samples],\n",
        "         train_data[(i + 1) * num_val_samples:]],\n",
        "        axis=0)\n",
        "    partial_train_targets = np.concatenate(\n",
        "        [train_targets[:i * num_val_samples],\n",
        "         train_targets[(i + 1) * num_val_samples:]],\n",
        "        axis=0)"
      ],
      "metadata": {
        "colab": {
          "base_uri": "https://localhost:8080/"
        },
        "id": "oZ5uC-RVBQX7",
        "outputId": "9f1b1822-b3e6-4801-9bad-a9bf1f805754"
      },
      "id": "oZ5uC-RVBQX7",
      "execution_count": 9,
      "outputs": [
        {
          "output_type": "stream",
          "name": "stdout",
          "text": [
            "processing fold # 0\n",
            "processing fold # 1\n",
            "processing fold # 2\n",
            "processing fold # 3\n"
          ]
        }
      ]
    },
    {
      "cell_type": "code",
      "source": [
        "model = build_model()                                                    \n",
        "model.fit(partial_train_data, partial_train_targets,epochs=num_epochs, batch_size=1, verbose=1)\n",
        "val_mse, val_mae = model.evaluate(val_data, val_targets, verbose=2)      \n",
        "all_scores.append(val_mae)"
      ],
      "metadata": {
        "colab": {
          "base_uri": "https://localhost:8080/"
        },
        "id": "WmB0QXWvBQkv",
        "outputId": "dfb5fe5a-4dc9-4600-fabc-e7bf69a63b1e"
      },
      "id": "WmB0QXWvBQkv",
      "execution_count": 15,
      "outputs": [
        {
          "output_type": "stream",
          "name": "stdout",
          "text": [
            "Epoch 1/100\n",
            "303/303 [==============================] - 1s 1ms/step - loss: 191.5379 - mae: 10.5871\n",
            "Epoch 2/100\n",
            "303/303 [==============================] - 0s 1ms/step - loss: 25.9877 - mae: 3.4047\n",
            "Epoch 3/100\n",
            "303/303 [==============================] - 0s 1ms/step - loss: 20.3294 - mae: 2.9548\n",
            "Epoch 4/100\n",
            "303/303 [==============================] - 0s 1ms/step - loss: 16.5418 - mae: 2.6783\n",
            "Epoch 5/100\n",
            "303/303 [==============================] - 0s 1ms/step - loss: 15.0872 - mae: 2.5104\n",
            "Epoch 6/100\n",
            "303/303 [==============================] - 0s 1ms/step - loss: 13.9226 - mae: 2.4717\n",
            "Epoch 7/100\n",
            "303/303 [==============================] - 0s 1ms/step - loss: 13.1853 - mae: 2.3517\n",
            "Epoch 8/100\n",
            "303/303 [==============================] - 0s 1ms/step - loss: 12.7500 - mae: 2.3352\n",
            "Epoch 9/100\n",
            "303/303 [==============================] - 0s 1ms/step - loss: 12.4456 - mae: 2.2288\n",
            "Epoch 10/100\n",
            "303/303 [==============================] - 0s 1ms/step - loss: 11.9279 - mae: 2.2304\n",
            "Epoch 11/100\n",
            "303/303 [==============================] - 0s 1ms/step - loss: 11.0785 - mae: 2.1695\n",
            "Epoch 12/100\n",
            "303/303 [==============================] - 0s 1ms/step - loss: 11.1240 - mae: 2.1304\n",
            "Epoch 13/100\n",
            "303/303 [==============================] - 0s 1ms/step - loss: 10.7165 - mae: 2.1491\n",
            "Epoch 14/100\n",
            "303/303 [==============================] - 0s 1ms/step - loss: 10.2853 - mae: 2.1114\n",
            "Epoch 15/100\n",
            "303/303 [==============================] - 0s 1ms/step - loss: 10.1333 - mae: 2.0695\n",
            "Epoch 16/100\n",
            "303/303 [==============================] - 0s 1ms/step - loss: 10.1114 - mae: 2.0423\n",
            "Epoch 17/100\n",
            "303/303 [==============================] - 0s 1ms/step - loss: 9.8850 - mae: 2.0423\n",
            "Epoch 18/100\n",
            "303/303 [==============================] - 0s 1ms/step - loss: 8.6933 - mae: 2.0153\n",
            "Epoch 19/100\n",
            "303/303 [==============================] - 0s 1ms/step - loss: 9.0615 - mae: 1.9477\n",
            "Epoch 20/100\n",
            "303/303 [==============================] - 0s 1ms/step - loss: 9.1334 - mae: 1.9769\n",
            "Epoch 21/100\n",
            "303/303 [==============================] - 0s 1ms/step - loss: 8.4819 - mae: 1.9693\n",
            "Epoch 22/100\n",
            "303/303 [==============================] - 0s 1ms/step - loss: 8.6383 - mae: 1.9019\n",
            "Epoch 23/100\n",
            "303/303 [==============================] - 0s 1ms/step - loss: 9.0018 - mae: 1.9411\n",
            "Epoch 24/100\n",
            "303/303 [==============================] - 0s 1ms/step - loss: 8.1980 - mae: 1.8922\n",
            "Epoch 25/100\n",
            "303/303 [==============================] - 0s 1ms/step - loss: 8.0594 - mae: 1.8515\n",
            "Epoch 26/100\n",
            "303/303 [==============================] - 0s 1ms/step - loss: 8.6749 - mae: 1.9036\n",
            "Epoch 27/100\n",
            "303/303 [==============================] - 0s 1ms/step - loss: 8.0626 - mae: 1.8946\n",
            "Epoch 28/100\n",
            "303/303 [==============================] - 0s 1ms/step - loss: 8.1425 - mae: 1.8696\n",
            "Epoch 29/100\n",
            "303/303 [==============================] - 0s 1ms/step - loss: 8.1655 - mae: 1.8715\n",
            "Epoch 30/100\n",
            "303/303 [==============================] - 0s 1ms/step - loss: 7.7370 - mae: 1.8437\n",
            "Epoch 31/100\n",
            "303/303 [==============================] - 0s 1ms/step - loss: 7.6378 - mae: 1.7815\n",
            "Epoch 32/100\n",
            "303/303 [==============================] - 0s 1ms/step - loss: 7.9966 - mae: 1.8075\n",
            "Epoch 33/100\n",
            "303/303 [==============================] - 0s 1ms/step - loss: 7.4764 - mae: 1.7770\n",
            "Epoch 34/100\n",
            "303/303 [==============================] - 0s 1ms/step - loss: 7.2332 - mae: 1.7786\n",
            "Epoch 35/100\n",
            "303/303 [==============================] - 0s 1ms/step - loss: 7.2503 - mae: 1.7745\n",
            "Epoch 36/100\n",
            "303/303 [==============================] - 0s 1ms/step - loss: 7.3042 - mae: 1.7997\n",
            "Epoch 37/100\n",
            "303/303 [==============================] - 0s 1ms/step - loss: 7.5323 - mae: 1.7463\n",
            "Epoch 38/100\n",
            "303/303 [==============================] - 0s 1ms/step - loss: 7.0799 - mae: 1.7054\n",
            "Epoch 39/100\n",
            "303/303 [==============================] - 0s 1ms/step - loss: 7.1334 - mae: 1.6813\n",
            "Epoch 40/100\n",
            "303/303 [==============================] - 0s 1ms/step - loss: 7.3847 - mae: 1.7428\n",
            "Epoch 41/100\n",
            "303/303 [==============================] - 0s 1ms/step - loss: 6.6818 - mae: 1.6937\n",
            "Epoch 42/100\n",
            "303/303 [==============================] - 0s 1ms/step - loss: 7.1397 - mae: 1.6787\n",
            "Epoch 43/100\n",
            "303/303 [==============================] - 0s 1ms/step - loss: 7.2956 - mae: 1.7425\n",
            "Epoch 44/100\n",
            "303/303 [==============================] - 0s 1ms/step - loss: 6.6756 - mae: 1.6833\n",
            "Epoch 45/100\n",
            "303/303 [==============================] - 0s 1ms/step - loss: 6.6029 - mae: 1.6830\n",
            "Epoch 46/100\n",
            "303/303 [==============================] - 0s 1ms/step - loss: 6.9261 - mae: 1.6597\n",
            "Epoch 47/100\n",
            "303/303 [==============================] - 0s 1ms/step - loss: 6.4907 - mae: 1.6381\n",
            "Epoch 48/100\n",
            "303/303 [==============================] - 0s 1ms/step - loss: 6.4652 - mae: 1.6500\n",
            "Epoch 49/100\n",
            "303/303 [==============================] - 0s 1ms/step - loss: 6.3721 - mae: 1.6401\n",
            "Epoch 50/100\n",
            "303/303 [==============================] - 0s 1ms/step - loss: 6.3561 - mae: 1.6869\n",
            "Epoch 51/100\n",
            "303/303 [==============================] - 0s 1ms/step - loss: 6.2271 - mae: 1.6355\n",
            "Epoch 52/100\n",
            "303/303 [==============================] - 0s 1ms/step - loss: 5.9063 - mae: 1.6315\n",
            "Epoch 53/100\n",
            "303/303 [==============================] - 0s 1ms/step - loss: 6.4360 - mae: 1.6238\n",
            "Epoch 54/100\n",
            "303/303 [==============================] - 0s 1ms/step - loss: 6.2742 - mae: 1.5964\n",
            "Epoch 55/100\n",
            "303/303 [==============================] - 0s 1ms/step - loss: 6.1484 - mae: 1.6137\n",
            "Epoch 56/100\n",
            "303/303 [==============================] - 0s 1ms/step - loss: 6.0759 - mae: 1.5731\n",
            "Epoch 57/100\n",
            "303/303 [==============================] - 0s 1ms/step - loss: 6.2655 - mae: 1.6470\n",
            "Epoch 58/100\n",
            "303/303 [==============================] - 0s 1ms/step - loss: 5.8675 - mae: 1.5421\n",
            "Epoch 59/100\n",
            "303/303 [==============================] - 0s 1ms/step - loss: 6.1161 - mae: 1.5459\n",
            "Epoch 60/100\n",
            "303/303 [==============================] - 0s 1ms/step - loss: 5.5997 - mae: 1.5345\n",
            "Epoch 61/100\n",
            "303/303 [==============================] - 0s 1ms/step - loss: 6.2473 - mae: 1.5760\n",
            "Epoch 62/100\n",
            "303/303 [==============================] - 0s 1ms/step - loss: 5.6448 - mae: 1.5492\n",
            "Epoch 63/100\n",
            "303/303 [==============================] - 0s 1ms/step - loss: 5.4965 - mae: 1.5963\n",
            "Epoch 64/100\n",
            "303/303 [==============================] - 0s 1ms/step - loss: 5.6043 - mae: 1.4825\n",
            "Epoch 65/100\n",
            "303/303 [==============================] - 0s 1ms/step - loss: 5.4862 - mae: 1.5456\n",
            "Epoch 66/100\n",
            "303/303 [==============================] - 0s 1ms/step - loss: 5.4814 - mae: 1.5284\n",
            "Epoch 67/100\n",
            "303/303 [==============================] - 0s 1ms/step - loss: 5.7489 - mae: 1.5344\n",
            "Epoch 68/100\n",
            "303/303 [==============================] - 0s 1ms/step - loss: 5.8755 - mae: 1.5444\n",
            "Epoch 69/100\n",
            "303/303 [==============================] - 0s 1ms/step - loss: 5.5337 - mae: 1.5331\n",
            "Epoch 70/100\n",
            "303/303 [==============================] - 0s 1ms/step - loss: 5.6674 - mae: 1.5434\n",
            "Epoch 71/100\n",
            "303/303 [==============================] - 0s 1ms/step - loss: 5.5820 - mae: 1.5027\n",
            "Epoch 72/100\n",
            "303/303 [==============================] - 0s 1ms/step - loss: 5.3939 - mae: 1.5486\n",
            "Epoch 73/100\n",
            "303/303 [==============================] - 0s 1ms/step - loss: 5.3548 - mae: 1.4817\n",
            "Epoch 74/100\n",
            "303/303 [==============================] - 0s 1ms/step - loss: 5.2076 - mae: 1.4849\n",
            "Epoch 75/100\n",
            "303/303 [==============================] - 0s 1ms/step - loss: 5.5306 - mae: 1.5188\n",
            "Epoch 76/100\n",
            "303/303 [==============================] - 0s 1ms/step - loss: 5.1800 - mae: 1.4858\n",
            "Epoch 77/100\n",
            "303/303 [==============================] - 0s 1ms/step - loss: 5.4168 - mae: 1.4884\n",
            "Epoch 78/100\n",
            "303/303 [==============================] - 0s 1ms/step - loss: 5.5194 - mae: 1.5109\n",
            "Epoch 79/100\n",
            "303/303 [==============================] - 0s 1ms/step - loss: 5.1895 - mae: 1.4875\n",
            "Epoch 80/100\n",
            "303/303 [==============================] - 0s 1ms/step - loss: 5.2887 - mae: 1.4464\n",
            "Epoch 81/100\n",
            "303/303 [==============================] - 0s 1ms/step - loss: 5.0419 - mae: 1.4141\n",
            "Epoch 82/100\n",
            "303/303 [==============================] - 0s 1ms/step - loss: 4.9857 - mae: 1.4609\n",
            "Epoch 83/100\n",
            "303/303 [==============================] - 0s 1ms/step - loss: 5.1397 - mae: 1.4508\n",
            "Epoch 84/100\n",
            "303/303 [==============================] - 0s 1ms/step - loss: 5.2063 - mae: 1.4174\n",
            "Epoch 85/100\n",
            "303/303 [==============================] - 0s 1ms/step - loss: 4.8561 - mae: 1.4056\n",
            "Epoch 86/100\n",
            "303/303 [==============================] - 0s 1ms/step - loss: 5.1753 - mae: 1.4233\n",
            "Epoch 87/100\n",
            "303/303 [==============================] - 0s 1ms/step - loss: 5.0460 - mae: 1.3627\n",
            "Epoch 88/100\n",
            "303/303 [==============================] - 0s 1ms/step - loss: 4.6851 - mae: 1.4337\n",
            "Epoch 89/100\n",
            "303/303 [==============================] - 0s 1ms/step - loss: 4.9332 - mae: 1.4086\n",
            "Epoch 90/100\n",
            "303/303 [==============================] - 0s 1ms/step - loss: 4.7641 - mae: 1.3834\n",
            "Epoch 91/100\n",
            "303/303 [==============================] - 0s 1ms/step - loss: 4.6898 - mae: 1.3538\n",
            "Epoch 92/100\n",
            "303/303 [==============================] - 0s 1ms/step - loss: 4.8481 - mae: 1.3686\n",
            "Epoch 93/100\n",
            "303/303 [==============================] - 0s 1ms/step - loss: 4.8264 - mae: 1.3818\n",
            "Epoch 94/100\n",
            "303/303 [==============================] - 0s 1ms/step - loss: 4.7564 - mae: 1.3669\n",
            "Epoch 95/100\n",
            "303/303 [==============================] - 0s 1ms/step - loss: 4.4809 - mae: 1.3513\n",
            "Epoch 96/100\n",
            "303/303 [==============================] - 0s 1ms/step - loss: 4.8591 - mae: 1.3711\n",
            "Epoch 97/100\n",
            "303/303 [==============================] - 0s 1ms/step - loss: 4.7033 - mae: 1.3783\n",
            "Epoch 98/100\n",
            "303/303 [==============================] - 0s 1ms/step - loss: 4.7358 - mae: 1.3842\n",
            "Epoch 99/100\n",
            "303/303 [==============================] - 0s 1ms/step - loss: 4.4545 - mae: 1.3167\n",
            "Epoch 100/100\n",
            "303/303 [==============================] - 0s 1ms/step - loss: 4.4344 - mae: 1.3478\n",
            "4/4 - 0s - loss: 11.9117 - mae: 2.3067 - 103ms/epoch - 26ms/step\n"
          ]
        }
      ]
    },
    {
      "cell_type": "code",
      "source": [
        "all_scores"
      ],
      "metadata": {
        "colab": {
          "base_uri": "https://localhost:8080/"
        },
        "id": "F0P3f5B4BQ10",
        "outputId": "e45420c9-e15f-44e8-fb4a-f32b5bd209b4"
      },
      "id": "F0P3f5B4BQ10",
      "execution_count": 16,
      "outputs": [
        {
          "output_type": "execute_result",
          "data": {
            "text/plain": [
              "[2.3469791412353516, 2.633168935775757, 2.30665922164917]"
            ]
          },
          "metadata": {},
          "execution_count": 16
        }
      ]
    },
    {
      "cell_type": "code",
      "source": [
        "np.mean(all_scores)"
      ],
      "metadata": {
        "colab": {
          "base_uri": "https://localhost:8080/"
        },
        "id": "GvSedhMFBQ_L",
        "outputId": "76908ea6-58f5-47d0-8c75-b30e215f2bf9"
      },
      "id": "GvSedhMFBQ_L",
      "execution_count": 17,
      "outputs": [
        {
          "output_type": "execute_result",
          "data": {
            "text/plain": [
              "2.4289357662200928"
            ]
          },
          "metadata": {},
          "execution_count": 17
        }
      ]
    },
    {
      "cell_type": "code",
      "source": [
        "#Saving the validation logs at each fold\n",
        "num_epochs = 500\n",
        "all_mae_histories = []\n",
        "for i in range(k):\n",
        "    print('processing fold #', i)\n",
        "    val_data = train_data[i * num_val_samples: (i + 1) * num_val_samples]    \n",
        "    val_targets = train_targets[i * num_val_samples: (i + 1) * num_val_samples]\n",
        "    partial_train_data = np.concatenate(                                     \n",
        "        [train_data[:i * num_val_samples],\n",
        "         train_data[(i + 1) * num_val_samples:]],\n",
        "        axis=0)\n",
        "    partial_train_targets = np.concatenate(\n",
        "        [train_targets[:i * num_val_samples],\n",
        "         train_targets[(i + 1) * num_val_samples:]],\n",
        "        axis=0)"
      ],
      "metadata": {
        "colab": {
          "base_uri": "https://localhost:8080/"
        },
        "id": "KPRWACrZAPee",
        "outputId": "599739ad-88d0-464f-b86c-aaf266587335"
      },
      "id": "KPRWACrZAPee",
      "execution_count": 19,
      "outputs": [
        {
          "output_type": "stream",
          "name": "stdout",
          "text": [
            "processing fold # 0\n",
            "processing fold # 1\n",
            "processing fold # 2\n",
            "processing fold # 3\n"
          ]
        }
      ]
    },
    {
      "cell_type": "code",
      "source": [
        "    model = build_model()                                                    \n",
        "    history = model.fit(partial_train_data, partial_train_targets,           \n",
        "                        validation_data=(val_data, val_targets),\n",
        "                        epochs=num_epochs, batch_size=1, verbose=0)\n",
        "    mae_history = history.history['val_mae']\n",
        "    all_mae_histories.append(mae_history)"
      ],
      "metadata": {
        "id": "-cwLE863Kfuh"
      },
      "id": "-cwLE863Kfuh",
      "execution_count": 21,
      "outputs": []
    },
    {
      "cell_type": "code",
      "source": [
        "#Building the history of successive mean K-fold validation scores\n",
        "average_mae_history = [np.mean([x[i] for x in all_mae_histories]) for i in range(num_epochs)]"
      ],
      "metadata": {
        "id": "1rpkBgvrSUze"
      },
      "id": "1rpkBgvrSUze",
      "execution_count": 22,
      "outputs": []
    },
    {
      "cell_type": "code",
      "source": [
        "#Plotting validation scores\n",
        "import matplotlib.pyplot as plt\n",
        "\n",
        "plt.plot(range(1, len(average_mae_history) + 1), average_mae_history)\n",
        "plt.xlabel('Epochs')\n",
        "plt.ylabel('Validation MAE')\n",
        "plt.show()"
      ],
      "metadata": {
        "colab": {
          "base_uri": "https://localhost:8080/",
          "height": 280
        },
        "id": "G95bDM3USVOO",
        "outputId": "923b8f96-1528-4331-fb5e-b1bd4ce6142f"
      },
      "id": "G95bDM3USVOO",
      "execution_count": 23,
      "outputs": [
        {
          "output_type": "display_data",
          "data": {
            "image/png": "[encoded data removed]",
            "text/plain": [
              "<Figure size 432x288 with 1 Axes>"
            ]
          },
          "metadata": {
            "needs_background": "light"
          }
        }
      ]
    },
    {
      "cell_type": "code",
      "source": [
        "#Plotting validation scores, excluding the first 10 data points\n",
        "def smooth_curve(points, factor=0.9):\n",
        "  smoothed_points = []\n",
        "  for point in points:\n",
        "    if smoothed_points:\n",
        "      previous = smoothed_points[-1]\n",
        "      smoothed_points.append(previous * factor + point * (1 - factor))\n",
        "    else:\n",
        "      smoothed_points.append(point)\n",
        "  return smoothed_points\n",
        "\n",
        "smooth_mae_history = smooth_curve(average_mae_history[10:])"
      ],
      "metadata": {
        "id": "3z_ZcrTaSVcj"
      },
      "id": "3z_ZcrTaSVcj",
      "execution_count": 24,
      "outputs": []
    },
    {
      "cell_type": "code",
      "source": [
        "plt.plot(range(1, len(smooth_mae_history) + 1), smooth_mae_history)\n",
        "plt.xlabel('Epochs')\n",
        "plt.ylabel('Validation MAE')\n",
        "plt.show()"
      ],
      "metadata": {
        "colab": {
          "base_uri": "https://localhost:8080/",
          "height": 279
        },
        "id": "YfSgU0_DSVpf",
        "outputId": "eab8d7fa-b492-46a0-8723-29d8273dd80b"
      },
      "id": "YfSgU0_DSVpf",
      "execution_count": 25,
      "outputs": [
        {
          "output_type": "display_data",
          "data": {
            "image/png": "[encoded data removed]",
            "text/plain": [
              "<Figure size 432x288 with 1 Axes>"
            ]
          },
          "metadata": {
            "needs_background": "light"
          }
        }
      ]
    },
    {
      "cell_type": "code",
      "source": [
        "#Training the final model\n",
        "model = build_model()                                                     \n",
        "model.fit(train_data, train_targets,epochs=80, batch_size=16, verbose=2)\n",
        "test_mse_score, test_mae_score = model.evaluate(test_data, test_targets)"
      ],
      "metadata": {
        "colab": {
          "base_uri": "https://localhost:8080/"
        },
        "id": "ZRHFz1vkKf5G",
        "outputId": "db1d090b-cec1-4d7f-f71d-5fe3bc6bef51"
      },
      "id": "ZRHFz1vkKf5G",
      "execution_count": 28,
      "outputs": [
        {
          "output_type": "stream",
          "name": "stdout",
          "text": [
            "Epoch 1/80\n",
            "26/26 - 1s - loss: 496.6232 - mae: 20.3264 - 544ms/epoch - 21ms/step\n",
            "Epoch 2/80\n",
            "26/26 - 0s - loss: 321.8214 - mae: 15.6527 - 46ms/epoch - 2ms/step\n",
            "Epoch 3/80\n",
            "26/26 - 0s - loss: 169.0225 - mae: 10.4843 - 35ms/epoch - 1ms/step\n",
            "Epoch 4/80\n",
            "26/26 - 0s - loss: 86.4626 - mae: 7.0362 - 40ms/epoch - 2ms/step\n",
            "Epoch 5/80\n",
            "26/26 - 0s - loss: 51.2171 - mae: 5.2388 - 39ms/epoch - 1ms/step\n",
            "Epoch 6/80\n",
            "26/26 - 0s - loss: 33.9930 - mae: 4.1715 - 36ms/epoch - 1ms/step\n",
            "Epoch 7/80\n",
            "26/26 - 0s - loss: 25.9178 - mae: 3.5803 - 39ms/epoch - 1ms/step\n",
            "Epoch 8/80\n",
            "26/26 - 0s - loss: 22.6163 - mae: 3.3128 - 46ms/epoch - 2ms/step\n",
            "Epoch 9/80\n",
            "26/26 - 0s - loss: 20.1415 - mae: 3.0852 - 34ms/epoch - 1ms/step\n",
            "Epoch 10/80\n",
            "26/26 - 0s - loss: 18.3188 - mae: 2.9553 - 41ms/epoch - 2ms/step\n",
            "Epoch 11/80\n",
            "26/26 - 0s - loss: 16.9681 - mae: 2.8438 - 39ms/epoch - 1ms/step\n",
            "Epoch 12/80\n",
            "26/26 - 0s - loss: 15.6289 - mae: 2.7212 - 43ms/epoch - 2ms/step\n",
            "Epoch 13/80\n",
            "26/26 - 0s - loss: 14.8402 - mae: 2.6187 - 40ms/epoch - 2ms/step\n",
            "Epoch 14/80\n",
            "26/26 - 0s - loss: 14.1910 - mae: 2.6116 - 40ms/epoch - 2ms/step\n",
            "Epoch 15/80\n",
            "26/26 - 0s - loss: 13.0709 - mae: 2.5396 - 37ms/epoch - 1ms/step\n",
            "Epoch 16/80\n",
            "26/26 - 0s - loss: 12.4913 - mae: 2.4709 - 38ms/epoch - 1ms/step\n",
            "Epoch 17/80\n",
            "26/26 - 0s - loss: 12.0802 - mae: 2.4024 - 40ms/epoch - 2ms/step\n",
            "Epoch 18/80\n",
            "26/26 - 0s - loss: 11.6287 - mae: 2.3945 - 37ms/epoch - 1ms/step\n",
            "Epoch 19/80\n",
            "26/26 - 0s - loss: 11.1067 - mae: 2.3397 - 37ms/epoch - 1ms/step\n",
            "Epoch 20/80\n",
            "26/26 - 0s - loss: 10.5139 - mae: 2.3267 - 49ms/epoch - 2ms/step\n",
            "Epoch 21/80\n",
            "26/26 - 0s - loss: 10.8551 - mae: 2.2955 - 39ms/epoch - 1ms/step\n",
            "Epoch 22/80\n",
            "26/26 - 0s - loss: 10.3827 - mae: 2.2651 - 33ms/epoch - 1ms/step\n",
            "Epoch 23/80\n",
            "26/26 - 0s - loss: 10.1832 - mae: 2.2469 - 35ms/epoch - 1ms/step\n",
            "Epoch 24/80\n",
            "26/26 - 0s - loss: 9.9679 - mae: 2.2126 - 43ms/epoch - 2ms/step\n",
            "Epoch 25/80\n",
            "26/26 - 0s - loss: 9.9418 - mae: 2.2334 - 36ms/epoch - 1ms/step\n",
            "Epoch 26/80\n",
            "26/26 - 0s - loss: 9.5623 - mae: 2.1959 - 33ms/epoch - 1ms/step\n",
            "Epoch 27/80\n",
            "26/26 - 0s - loss: 9.4664 - mae: 2.1494 - 35ms/epoch - 1ms/step\n",
            "Epoch 28/80\n",
            "26/26 - 0s - loss: 9.2487 - mae: 2.1718 - 33ms/epoch - 1ms/step\n",
            "Epoch 29/80\n",
            "26/26 - 0s - loss: 9.1916 - mae: 2.1770 - 37ms/epoch - 1ms/step\n",
            "Epoch 30/80\n",
            "26/26 - 0s - loss: 8.9222 - mae: 2.1168 - 37ms/epoch - 1ms/step\n",
            "Epoch 31/80\n",
            "26/26 - 0s - loss: 8.9665 - mae: 2.1252 - 42ms/epoch - 2ms/step\n",
            "Epoch 32/80\n",
            "26/26 - 0s - loss: 8.8085 - mae: 2.0809 - 44ms/epoch - 2ms/step\n",
            "Epoch 33/80\n",
            "26/26 - 0s - loss: 8.8869 - mae: 2.1207 - 35ms/epoch - 1ms/step\n",
            "Epoch 34/80\n",
            "26/26 - 0s - loss: 8.5634 - mae: 2.0837 - 42ms/epoch - 2ms/step\n",
            "Epoch 35/80\n",
            "26/26 - 0s - loss: 8.5099 - mae: 2.0833 - 35ms/epoch - 1ms/step\n",
            "Epoch 36/80\n",
            "26/26 - 0s - loss: 8.2929 - mae: 2.0162 - 34ms/epoch - 1ms/step\n",
            "Epoch 37/80\n",
            "26/26 - 0s - loss: 8.5025 - mae: 2.1253 - 46ms/epoch - 2ms/step\n",
            "Epoch 38/80\n",
            "26/26 - 0s - loss: 8.2822 - mae: 2.0343 - 36ms/epoch - 1ms/step\n",
            "Epoch 39/80\n",
            "26/26 - 0s - loss: 8.1898 - mae: 2.0440 - 37ms/epoch - 1ms/step\n",
            "Epoch 40/80\n",
            "26/26 - 0s - loss: 8.2684 - mae: 2.0389 - 36ms/epoch - 1ms/step\n",
            "Epoch 41/80\n",
            "26/26 - 0s - loss: 8.0713 - mae: 2.0085 - 34ms/epoch - 1ms/step\n",
            "Epoch 42/80\n",
            "26/26 - 0s - loss: 8.0728 - mae: 2.0152 - 41ms/epoch - 2ms/step\n",
            "Epoch 43/80\n",
            "26/26 - 0s - loss: 7.9193 - mae: 2.0239 - 38ms/epoch - 1ms/step\n",
            "Epoch 44/80\n",
            "26/26 - 0s - loss: 7.8382 - mae: 2.0030 - 37ms/epoch - 1ms/step\n",
            "Epoch 45/80\n",
            "26/26 - 0s - loss: 7.7382 - mae: 1.9475 - 35ms/epoch - 1ms/step\n",
            "Epoch 46/80\n",
            "26/26 - 0s - loss: 7.5039 - mae: 1.9567 - 36ms/epoch - 1ms/step\n",
            "Epoch 47/80\n",
            "26/26 - 0s - loss: 7.7008 - mae: 1.9506 - 42ms/epoch - 2ms/step\n",
            "Epoch 48/80\n",
            "26/26 - 0s - loss: 7.5644 - mae: 1.9617 - 34ms/epoch - 1ms/step\n",
            "Epoch 49/80\n",
            "26/26 - 0s - loss: 7.4841 - mae: 1.9214 - 33ms/epoch - 1ms/step\n",
            "Epoch 50/80\n",
            "26/26 - 0s - loss: 7.4245 - mae: 1.9405 - 36ms/epoch - 1ms/step\n",
            "Epoch 51/80\n",
            "26/26 - 0s - loss: 7.3756 - mae: 1.8899 - 35ms/epoch - 1ms/step\n",
            "Epoch 52/80\n",
            "26/26 - 0s - loss: 7.3625 - mae: 1.9406 - 37ms/epoch - 1ms/step\n",
            "Epoch 53/80\n",
            "26/26 - 0s - loss: 7.2984 - mae: 1.9060 - 36ms/epoch - 1ms/step\n",
            "Epoch 54/80\n",
            "26/26 - 0s - loss: 7.0502 - mae: 1.8747 - 33ms/epoch - 1ms/step\n",
            "Epoch 55/80\n",
            "26/26 - 0s - loss: 7.1241 - mae: 1.9135 - 33ms/epoch - 1ms/step\n",
            "Epoch 56/80\n",
            "26/26 - 0s - loss: 7.1952 - mae: 1.8732 - 45ms/epoch - 2ms/step\n",
            "Epoch 57/80\n",
            "26/26 - 0s - loss: 7.0872 - mae: 1.8860 - 40ms/epoch - 2ms/step\n",
            "Epoch 58/80\n",
            "26/26 - 0s - loss: 7.0245 - mae: 1.8941 - 35ms/epoch - 1ms/step\n",
            "Epoch 59/80\n",
            "26/26 - 0s - loss: 6.8376 - mae: 1.8827 - 37ms/epoch - 1ms/step\n",
            "Epoch 60/80\n",
            "26/26 - 0s - loss: 6.8462 - mae: 1.8789 - 44ms/epoch - 2ms/step\n",
            "Epoch 61/80\n",
            "26/26 - 0s - loss: 7.0140 - mae: 1.8947 - 35ms/epoch - 1ms/step\n",
            "Epoch 62/80\n",
            "26/26 - 0s - loss: 6.6717 - mae: 1.8358 - 37ms/epoch - 1ms/step\n",
            "Epoch 63/80\n",
            "26/26 - 0s - loss: 6.6409 - mae: 1.8342 - 34ms/epoch - 1ms/step\n",
            "Epoch 64/80\n",
            "26/26 - 0s - loss: 6.7466 - mae: 1.8294 - 35ms/epoch - 1ms/step\n",
            "Epoch 65/80\n",
            "26/26 - 0s - loss: 6.5672 - mae: 1.8471 - 40ms/epoch - 2ms/step\n",
            "Epoch 66/80\n",
            "26/26 - 0s - loss: 6.6191 - mae: 1.8315 - 35ms/epoch - 1ms/step\n",
            "Epoch 67/80\n",
            "26/26 - 0s - loss: 6.5210 - mae: 1.7953 - 34ms/epoch - 1ms/step\n",
            "Epoch 68/80\n",
            "26/26 - 0s - loss: 6.3566 - mae: 1.7760 - 35ms/epoch - 1ms/step\n",
            "Epoch 69/80\n",
            "26/26 - 0s - loss: 6.4644 - mae: 1.8283 - 34ms/epoch - 1ms/step\n",
            "Epoch 70/80\n",
            "26/26 - 0s - loss: 6.2556 - mae: 1.7605 - 39ms/epoch - 1ms/step\n",
            "Epoch 71/80\n",
            "26/26 - 0s - loss: 6.4189 - mae: 1.8005 - 38ms/epoch - 1ms/step\n",
            "Epoch 72/80\n",
            "26/26 - 0s - loss: 6.1938 - mae: 1.8022 - 35ms/epoch - 1ms/step\n",
            "Epoch 73/80\n",
            "26/26 - 0s - loss: 6.0244 - mae: 1.7555 - 35ms/epoch - 1ms/step\n",
            "Epoch 74/80\n",
            "26/26 - 0s - loss: 6.0354 - mae: 1.7237 - 38ms/epoch - 1ms/step\n",
            "Epoch 75/80\n",
            "26/26 - 0s - loss: 6.1518 - mae: 1.7615 - 35ms/epoch - 1ms/step\n",
            "Epoch 76/80\n",
            "26/26 - 0s - loss: 5.9221 - mae: 1.7084 - 43ms/epoch - 2ms/step\n",
            "Epoch 77/80\n",
            "26/26 - 0s - loss: 5.8755 - mae: 1.7272 - 36ms/epoch - 1ms/step\n",
            "Epoch 78/80\n",
            "26/26 - 0s - loss: 6.0045 - mae: 1.7222 - 36ms/epoch - 1ms/step\n",
            "Epoch 79/80\n",
            "26/26 - 0s - loss: 5.7964 - mae: 1.6798 - 34ms/epoch - 1ms/step\n",
            "Epoch 80/80\n",
            "26/26 - 0s - loss: 5.8713 - mae: 1.6953 - 37ms/epoch - 1ms/step\n",
            "4/4 [==============================] - 0s 3ms/step - loss: 18.4348 - mae: 2.8051\n"
          ]
        }
      ]
    },
    {
      "cell_type": "code",
      "source": [
        "test_mae_score"
      ],
      "metadata": {
        "colab": {
          "base_uri": "https://localhost:8080/"
        },
        "id": "CuF4AQPgKf9i",
        "outputId": "168c5553-ab13-4db0-db36-0be3e469c468"
      },
      "id": "CuF4AQPgKf9i",
      "execution_count": 27,
      "outputs": [
        {
          "output_type": "execute_result",
          "data": {
            "text/plain": [
              "2.523228168487549"
            ]
          },
          "metadata": {},
          "execution_count": 27
        }
      ]
    }
  ],
  "metadata": {
    "kernelspec": {
      "display_name": "Python 3 (ipykernel)",
      "language": "python",
      "name": "python3"
    },
    "language_info": {
      "codemirror_mode": {
        "name": "ipython",
        "version": 3
      },
      "file_extension": ".py",
      "mimetype": "text/x-python",
      "name": "python",
      "nbconvert_exporter": "python",
      "pygments_lexer": "ipython3",
      "version": "3.9.7"
    },
    "colab": {
      "name": "reg.ipynb",
      "provenance": [],
      "collapsed_sections": []
    }
  },
  "nbformat": 4,
  "nbformat_minor": 5
}